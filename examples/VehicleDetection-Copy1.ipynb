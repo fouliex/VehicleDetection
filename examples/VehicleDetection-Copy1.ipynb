{
 "cells": [
  {
   "cell_type": "markdown",
   "metadata": {},
   "source": [
    "## Vehicle Detection\n",
    "\n",
    "The goals / steps of this project are the following:\n",
    "\n",
    "1. Perform a Histogram of Oriented Gradients (HOG) feature extraction on a labeled training set of images and train a classifier Linear SVM classifier\n",
    "2. Optionally, you can also apply a color transform and append binned color features, as well as histograms of color, to your HOG feature vector.Note: for those first two steps don't forget to normalize your features and randomize a selection for training and testing.\n",
    "3. Implement a sliding-window technique and use your trained classifier to search for vehicles in images.\n",
    "4. Run your pipeline on a video stream (start with the test_video.mp4 and later implement on full project_video.mp4) and create a heat map of recurring detections frame by frame to reject outliers and follow detected vehicles.\n",
    "5. Estimate a bounding box for vehicles detected.\n",
    "\n"
   ]
  },
  {
   "cell_type": "markdown",
   "metadata": {},
   "source": [
    "## Libraries"
   ]
  },
  {
   "cell_type": "code",
   "execution_count": 1,
   "metadata": {},
   "outputs": [
    {
     "name": "stderr",
     "output_type": "stream",
     "text": [
      "/Users/212361198/anaconda/envs/carnd-term1/lib/python3.5/site-packages/sklearn/cross_validation.py:41: DeprecationWarning: This module was deprecated in version 0.18 in favor of the model_selection module into which all the refactored classes and functions are moved. Also note that the interface of the new CV iterators are different from that of this module. This module will be removed in 0.20.\n",
      "  \"This module will be removed in 0.20.\", DeprecationWarning)\n"
     ]
    }
   ],
   "source": [
    "import cv2\n",
    "import pickle\n",
    "import glob\n",
    "import time\n",
    "import matplotlib.pyplot as plt\n",
    "import numpy as np\n",
    "import matplotlib.pyplot as plt\n",
    "import numpy as np\n",
    "from pathlib import Path\n",
    "from sklearn.svm import LinearSVC\n",
    "from sklearn.svm import SVC\n",
    "from sklearn.preprocessing import StandardScaler\n",
    "from skimage.feature import hog\n",
    "from sklearn.cross_validation import train_test_split\n",
    "from moviepy.editor import VideoFileClip\n",
    "from IPython.display import HTML\n",
    "from scipy.ndimage.measurements import label\n",
    "import matplotlib.image as mpimg"
   ]
  },
  {
   "cell_type": "markdown",
   "metadata": {},
   "source": [
    "## Helper functions"
   ]
  },
  {
   "cell_type": "code",
   "execution_count": 28,
   "metadata": {},
   "outputs": [],
   "source": [
    "def draw_labeled_box(img, labels):\n",
    "    \"\"\"\n",
    "    Iterate throufh all detected vehicles and then draw the box on the image\n",
    "    :param img: \n",
    "    :param labels: \n",
    "    :return: \n",
    "    \"\"\"\n",
    "    # Iterate through all detected cars\n",
    "    for car_number in range(1, labels[1]+1):\n",
    "        # Find pixels with each car_number label value\n",
    "        nonzero = (labels[0] == car_number).nonzero()\n",
    "        # Identify x and y values of those pixels\n",
    "        nonzeroy = np.array(nonzero[0])\n",
    "        nonzerox = np.array(nonzero[1])\n",
    "        # Define a bounding box based on min/max x and y\n",
    "        bbox = ((np.min(nonzerox), np.min(nonzeroy)), (np.max(nonzerox), np.max(nonzeroy)))\n",
    "        # Draw the box on the image\n",
    "        cv2.rectangle(img, bbox[0], bbox[1], (255,255,0), 6)\n",
    "    # Return the image\n",
    "    return img\n",
    "\n",
    "def get_hog_features(img, orient, pix_per_cell, cell_per_block,\n",
    "                     vis=False, feature_vec=True):\n",
    "    \"\"\"\n",
    "    Return HOG features and visualization\n",
    "    :param img:\n",
    "    :param orient:\n",
    "    :param pix_per_cell:\n",
    "    :param cell_per_block:\n",
    "    :param vis:\n",
    "    :param feature_vec:\n",
    "    :return:\n",
    "    \"\"\"\n",
    "    # Call with two outputs if vis==True\n",
    "    if vis == True:\n",
    "        features, hog_image = hog(img, orientations=orient,\n",
    "                                  pixels_per_cell=(pix_per_cell, pix_per_cell),\n",
    "                                  cells_per_block=(cell_per_block, cell_per_block),\n",
    "                                  transform_sqrt=True,\n",
    "                                  visualise=vis, feature_vector=feature_vec)\n",
    "        return features, hog_image\n",
    "    # Otherwise call with one output\n",
    "    else:\n",
    "        features = hog(img, orientations=orient,\n",
    "                       pixels_per_cell=(pix_per_cell, pix_per_cell),\n",
    "                       cells_per_block=(cell_per_block, cell_per_block),\n",
    "                       transform_sqrt=True,\n",
    "                       visualise=vis, feature_vector=feature_vec)\n",
    "        return features\n",
    "\n",
    "\n",
    "def color_hist(img, nbins=32, bins_range=(0, 256)):\n",
    "    \"\"\"\n",
    "     Compute color histogram features\n",
    "    :param img:\n",
    "    :param nbins:\n",
    "    :param bins_range:\n",
    "    :return:\n",
    "    \"\"\"\n",
    "    # Compute the histogram of the color channels separately\n",
    "    channel1_hist = np.histogram(img[:, :, 0], bins=nbins, range=bins_range)\n",
    "    channel2_hist = np.histogram(img[:, :, 1], bins=nbins, range=bins_range)\n",
    "    channel3_hist = np.histogram(img[:, :, 2], bins=nbins, range=bins_range)\n",
    "\n",
    "    # Concatenate the histograms into a single feature vector\n",
    "    hist_features = np.concatenate((channel1_hist[0], channel2_hist[0], channel3_hist[0]))\n",
    "\n",
    "    # Return the individual histograms, bin_centers and feature vector\n",
    "    return hist_features\n",
    "\n",
    "\n",
    "def bin_spatial(img, size=(32, 32)):\n",
    "    \"\"\"\n",
    "    Compute binned color features\n",
    "    :param img:\n",
    "    :param size:\n",
    "    :return:\n",
    "    \"\"\"\n",
    "    # Use cv2.resize().ravel() to create the feature vector\n",
    "    features = cv2.resize(img, size).ravel()\n",
    "    # Return the feature vector\n",
    "    return features\n",
    "\n",
    "\n",
    "def extract_features(imgs, color_space='RGB', spatial_size=(32, 32),\n",
    "                     hist_bins=32, orient=9,\n",
    "                     pix_per_cell=8, cell_per_block=2, hog_channel='ALL',\n",
    "                     spatial_feat=True, hist_feat=True, hog_feat=True):\n",
    "    \"\"\"\n",
    "    Extract features from a list of images\n",
    "    :param imgs:\n",
    "    :param color_space:\n",
    "    :param spatial_size:\n",
    "    :param hist_bins:\n",
    "    :param orient:\n",
    "    :param pix_per_cell:\n",
    "    :param cell_per_block:\n",
    "    :param hog_channel:\n",
    "    :param spatial_feat:\n",
    "    :param hist_feat:\n",
    "    :param hog_feat:\n",
    "    :return:\n",
    "    \"\"\"\n",
    "\n",
    "    # Create a list to append feature vectors to\n",
    "    features = []\n",
    "\n",
    "    # Iterate through the list of images\n",
    "    for file in imgs:\n",
    "        file_features = []\n",
    "        # Read in each one by one\n",
    "        image = mpimg.imread(file)\n",
    "        # apply color conversion if other than 'RGB'\n",
    "        if color_space != 'RGB':\n",
    "            if color_space == 'HSV':\n",
    "                feature_image = cv2.cvtColor(image, cv2.COLOR_RGB2HSV)\n",
    "            elif color_space == 'LUV':\n",
    "                feature_image = cv2.cvtColor(image, cv2.COLOR_RGB2LUV)\n",
    "            elif color_space == 'HLS':\n",
    "                feature_image = cv2.cvtColor(image, cv2.COLOR_RGB2HLS)\n",
    "            elif color_space == 'YUV':\n",
    "                feature_image = cv2.cvtColor(image, cv2.COLOR_RGB2YUV)\n",
    "            elif color_space == 'YCrCb':\n",
    "                feature_image = cv2.cvtColor(image, cv2.COLOR_RGB2YCrCb)\n",
    "        else:\n",
    "            feature_image = np.copy(image)\n",
    "\n",
    "        if spatial_feat:\n",
    "            spatial_features = bin_spatial(feature_image, size=spatial_size)\n",
    "            file_features.append(spatial_features)\n",
    "        if hist_feat:\n",
    "            # Apply color_hist()\n",
    "            hist_features = color_hist(feature_image, nbins=hist_bins)\n",
    "            file_features.append(hist_features)\n",
    "        if hog_feat:\n",
    "\n",
    "            # Call get_hog_features() with vis=False, feature_vec=True\n",
    "            if hog_channel == 'ALL':\n",
    "                hog_features = []\n",
    "                for channel in range(feature_image.shape[2]):\n",
    "                    hog_features.append(get_hog_features(feature_image[:, :, channel],\n",
    "                                                         orient, pix_per_cell, cell_per_block,\n",
    "                                                         vis=False, feature_vec=True))\n",
    "                hog_features = np.ravel(hog_features)\n",
    "            else:\n",
    "                hog_features = get_hog_features(feature_image[:, :, hog_channel], orient,\n",
    "                                                pix_per_cell, cell_per_block, vis=False, feature_vec=True)\n",
    "            # Append the new feature vector to the features list\n",
    "            file_features.append(hog_features)\n",
    "        features.append(np.concatenate(file_features))\n",
    "\n",
    "    # Return list of feature vectors\n",
    "    return features\n",
    "\n",
    "\n",
    "def convert_color(img, conv='RGB2YCrCb'):\n",
    "    \"\"\"\n",
    "    Convert color image\n",
    "    :param img:\n",
    "    :param conv:\n",
    "    :return:\n",
    "    \"\"\"\n",
    "    if conv == 'RGB2YCrCb':\n",
    "        return cv2.cvtColor(img, cv2.COLOR_RGB2YCrCb)\n",
    "    if conv == 'BGR2YCrCb':\n",
    "        return cv2.cvtColor(img, cv2.COLOR_BGR2YCrCb)\n",
    "    if conv == 'RGB2LUV':\n",
    "        return cv2.cvtColor(img, cv2.COLOR_RGB2LUV)\n",
    "\n",
    "\n",
    "def plot(img1, img2, img1_title, img2_title):\n",
    "    \"\"\"\n",
    "    Plot image 1 and image 2\n",
    "    :param img1:\n",
    "    :param img2:\n",
    "    :param img1_title:\n",
    "    :param img2_title:\n",
    "    :return:\n",
    "    \"\"\"\n",
    "    plt.subplot(121)\n",
    "    plt.imshow(img1)\n",
    "    plt.title(img1_title)\n",
    "    plt.subplot(122)\n",
    "    plt.imshow(img2)\n",
    "    plt.title(img2_title)\n",
    "\n",
    "\n",
    "# Define a single function that can\n",
    "def find_vehicles(img, svc, x_scaler, hog_file):\n",
    "    \"\"\"\n",
    "    :param img:\n",
    "    :param svc:\n",
    "    :param x_scaler:\n",
    "    :param hog_file:\n",
    "    :return:\n",
    "    \"\"\"\n",
    "    ystart = 400\n",
    "    ystop = 656\n",
    "    scale = 1.5\n",
    "    orient = 9\n",
    "    pix_per_cell = 8\n",
    "    cell_per_block = 2\n",
    "    spatial_size = (32, 32)\n",
    "    hist_bins = 32\n",
    "    heatmap = np.zeros_like(img[:, :, 0])\n",
    "\n",
    "    heatmap = np.zeros_like(img[:, :, 0])\n",
    "\n",
    "    img_tosearch = img[ystart:ystop, :, :]\n",
    "    # ctrans_tosearch = convert_color(img_tosearch, conv='RGB2YCrCb')\n",
    "    ctrans_tosearch = img_tosearch\n",
    "    if scale != 1:\n",
    "        imshape = ctrans_tosearch.shape\n",
    "        ctrans_tosearch = cv2.resize(ctrans_tosearch, (np.int(imshape[1] / scale), np.int(imshape[0] / scale)))\n",
    "\n",
    "    ch1 = ctrans_tosearch[:, :, 0]\n",
    "    ch2 = ctrans_tosearch[:, :, 1]\n",
    "    ch3 = ctrans_tosearch[:, :, 2]\n",
    "\n",
    "    # Define blocks and steps as above\n",
    "    nxblocks = (ch1.shape[1] // pix_per_cell) - cell_per_block + 1\n",
    "    nyblocks = (ch1.shape[0] // pix_per_cell) - cell_per_block + 1\n",
    "    nfeat_per_block = orient * cell_per_block ** 2\n",
    "\n",
    "    # 64 was the orginal sampling rate, with 8 cells and 8 pix per cell\n",
    "    window = 64\n",
    "    nblocks_per_window = (window // pix_per_cell) - cell_per_block + 1\n",
    "    cells_per_step = 2  # Instead of overlap, define how many cells to step\n",
    "    nxsteps = (nxblocks - nblocks_per_window) // cells_per_step\n",
    "    nysteps = (nyblocks - nblocks_per_window) // cells_per_step\n",
    "\n",
    "    # hog_file = \"pickle/hog-\" + str(framenum) + \".pickle\"\n",
    "    if Path(hog_file).is_file():\n",
    "        f = open(hog_file, \"rb\")\n",
    "        hog1 = pickle.load(f)\n",
    "        hog2 = pickle.load(f)\n",
    "        hog3 = pickle.load(f)\n",
    "        f.close()\n",
    "    else:\n",
    "        # Compute individual channel HOG features for the entire image\n",
    "        hog1 = get_hog_features(ch1, orient, pix_per_cell, cell_per_block, feature_vec=False)\n",
    "        hog2 = get_hog_features(ch2, orient, pix_per_cell, cell_per_block, feature_vec=False)\n",
    "        hog3 = get_hog_features(ch3, orient, pix_per_cell, cell_per_block, feature_vec=False)\n",
    "        f = open(hog_file, \"wb\")\n",
    "        pickle.dump(hog1, f)\n",
    "        pickle.dump(hog2, f)\n",
    "        pickle.dump(hog3, f)\n",
    "        f.close()\n",
    "\n",
    "    for xb in range(nxsteps):\n",
    "        if (xb * cells_per_step * pix_per_cell * scale) > 700:\n",
    "            for yb in range(nysteps):\n",
    "                ypos = yb * cells_per_step\n",
    "                xpos = xb * cells_per_step\n",
    "                # Extract HOG for this patch\n",
    "                hog_feat1 = hog1[ypos:ypos + nblocks_per_window, xpos:xpos + nblocks_per_window].ravel()\n",
    "                hog_feat2 = hog2[ypos:ypos + nblocks_per_window, xpos:xpos + nblocks_per_window].ravel()\n",
    "                hog_feat3 = hog3[ypos:ypos + nblocks_per_window, xpos:xpos + nblocks_per_window].ravel()\n",
    "                hog_features = np.hstack((hog_feat1, hog_feat2, hog_feat3))\n",
    "\n",
    "                xleft = xpos * pix_per_cell\n",
    "                ytop = ypos * pix_per_cell\n",
    "\n",
    "                # Extract the image patch\n",
    "                subimg = cv2.resize(ctrans_tosearch[ytop:ytop + window, xleft:xleft + window], (64, 64))\n",
    "\n",
    "                # Get color features\n",
    "                spatial_features = bin_spatial(subimg, size=spatial_size)\n",
    "                hist_features = color_hist(subimg, nbins=hist_bins)\n",
    "\n",
    "                # Scale features and make a prediction\n",
    "                test_features = x_scaler.transform(\n",
    "                    np.hstack((spatial_features, hist_features, hog_features)).reshape(1, -1))\n",
    "                # test_features = x_scaler.transform(np.hstack((shape_feat, hist_feat)).reshape(1, -1))\n",
    "                test_prediction = svc.predict(test_features)\n",
    "\n",
    "                if test_prediction == 1:\n",
    "                    xbox_left = np.int(xleft * scale)\n",
    "                    ytop_draw = np.int(ytop * scale)\n",
    "                    win_draw = np.int(window * scale)\n",
    "                    # cv2.rectangle(draw_img,(xbox_left, ytop_draw+ystart),(xbox_left+win_draw,ytop_draw+win_draw+ystart),(0,0,255),6)\n",
    "                    if (xbox_left > 700):\n",
    "                        heatmap[ytop_draw + ystart:ytop_draw + ystart + win_draw, xbox_left:xbox_left + win_draw] += 1\n",
    "\n",
    "    # apply threshold\n",
    "    # threshold = 2\n",
    "    # heatmap[heatmap <= threshold] = 0\n",
    "    #\n",
    "    # heatmap[heatmap > 0] = 200\n",
    "    return heatmap"
   ]
  },
  {
   "cell_type": "markdown",
   "metadata": {},
   "source": [
    "# 1. Perform a Histogram of Oriented Gradients (HOG) feature extraction on a labeled training set of images and train a classifier Linear SVM classifier"
   ]
  },
  {
   "cell_type": "markdown",
   "metadata": {},
   "source": [
    "## Get a list of Vehicles and Non-Vehicles images"
   ]
  },
  {
   "cell_type": "code",
   "execution_count": 3,
   "metadata": {},
   "outputs": [
    {
     "name": "stdout",
     "output_type": "stream",
     "text": [
      "Vehicles Images size: 0\n",
      "No Vehicles Images size: 0\n"
     ]
    }
   ],
   "source": [
    "vehicles = []\n",
    "non_vehicles = []\n",
    "vehicles_images = glob.glob('../vehicles/**/*.png',recursive=True)\n",
    "for image in vehicles_images:\n",
    "    vehicles.append(image)\n",
    "    \n",
    "no_vehicles_images = glob.glob('../non-vehicles/**/*.png',recursive=True)\n",
    "for image in no_vehicles_images:\n",
    "    non_vehicles.append(image)\n",
    "    \n",
    "print(\"Vehicles Images size: {}\".format(len(vehicles)))\n",
    "print(\"No Vehicles Images size: {}\".format(len(non_vehicles)))\n"
   ]
  },
  {
   "cell_type": "markdown",
   "metadata": {},
   "source": [
    "## Plot a Vehicle and Non-Vehicle image"
   ]
  },
  {
   "cell_type": "code",
   "execution_count": 4,
   "metadata": {},
   "outputs": [
    {
     "ename": "IndexError",
     "evalue": "list index out of range",
     "output_type": "error",
     "traceback": [
      "\u001b[0;31m---------------------------------------------------------------------------\u001b[0m",
      "\u001b[0;31mIndexError\u001b[0m                                Traceback (most recent call last)",
      "\u001b[0;32m<ipython-input-4-169d3ef760a7>\u001b[0m in \u001b[0;36m<module>\u001b[0;34m()\u001b[0m\n\u001b[0;32m----> 1\u001b[0;31m \u001b[0mvehicle_img\u001b[0m \u001b[0;34m=\u001b[0m \u001b[0mmpimg\u001b[0m\u001b[0;34m.\u001b[0m\u001b[0mimread\u001b[0m\u001b[0;34m(\u001b[0m\u001b[0mvehicles\u001b[0m\u001b[0;34m[\u001b[0m\u001b[0;36m0\u001b[0m\u001b[0;34m]\u001b[0m\u001b[0;34m)\u001b[0m\u001b[0;34m\u001b[0m\u001b[0m\n\u001b[0m\u001b[1;32m      2\u001b[0m \u001b[0mnon_vehicle_img\u001b[0m \u001b[0;34m=\u001b[0m \u001b[0mmpimg\u001b[0m\u001b[0;34m.\u001b[0m\u001b[0mimread\u001b[0m\u001b[0;34m(\u001b[0m\u001b[0mnon_vehicles\u001b[0m\u001b[0;34m[\u001b[0m\u001b[0;36m0\u001b[0m\u001b[0;34m]\u001b[0m\u001b[0;34m)\u001b[0m\u001b[0;34m\u001b[0m\u001b[0m\n\u001b[1;32m      3\u001b[0m \u001b[0mplot\u001b[0m\u001b[0;34m(\u001b[0m\u001b[0mvehicle_img\u001b[0m\u001b[0;34m,\u001b[0m\u001b[0mnon_vehicle_img\u001b[0m\u001b[0;34m,\u001b[0m\u001b[0;34m'Vehicle Image'\u001b[0m\u001b[0;34m,\u001b[0m\u001b[0;34m'Non-Vehichle Image'\u001b[0m\u001b[0;34m)\u001b[0m\u001b[0;34m\u001b[0m\u001b[0m\n",
      "\u001b[0;31mIndexError\u001b[0m: list index out of range"
     ]
    }
   ],
   "source": [
    "vehicle_img = mpimg.imread(vehicles[0])\n",
    "non_vehicle_img = mpimg.imread(non_vehicles[0])\n",
    "plot(vehicle_img,non_vehicle_img,'Vehicle Image','Non-Vehichle Image')"
   ]
  },
  {
   "cell_type": "markdown",
   "metadata": {},
   "source": [
    "## Generate Support Vector Classification"
   ]
  },
  {
   "cell_type": "markdown",
   "metadata": {},
   "source": [
    "## Extract Features"
   ]
  },
  {
   "cell_type": "code",
   "execution_count": 64,
   "metadata": {
    "scrolled": true
   },
   "outputs": [
    {
     "name": "stdout",
     "output_type": "stream",
     "text": [
      "Please wait...\n"
     ]
    },
    {
     "name": "stderr",
     "output_type": "stream",
     "text": [
      "/home/foubuntu/anaconda2/envs/carnd-term1/lib/python3.5/site-packages/skimage/feature/_hog.py:119: skimage_deprecation: Default value of `block_norm`==`L1` is deprecated and will be changed to `L2-Hys` in v0.15\n",
      "  'be changed to `L2-Hys` in v0.15', skimage_deprecation)\n"
     ]
    },
    {
     "name": "stdout",
     "output_type": "stream",
     "text": [
      "102.27 seconds to extract features\n",
      "Done Extracting features\n"
     ]
    }
   ],
   "source": [
    "print(\"Please wait...\")\n",
    "t=time.time()\n",
    "vehicle_features = extract_features(vehicles)\n",
    "non_vehicle_features = extract_features(non_vehicles)\n",
    "\n",
    "x = np.vstack((vehicle_features, non_vehicle_features)).astype(np.float64)\n",
    "# Fit a per-column scaler\n",
    "x_scaler = StandardScaler().fit(x)\n",
    "# Apply the scaler to X\n",
    "scaled_X = x_scaler.transform(x)\n",
    "\n",
    "# Define the labels vector\n",
    "y = np.hstack((np.ones(len(vehicle_features)), np.zeros(len(non_vehicle_features))))\n",
    "\n",
    "\n",
    "# Split up data into randomized training and test sets\n",
    "rand_state = np.random.randint(0, 100)\n",
    "X_train, X_test, y_train, y_test = train_test_split(scaled_X, y, test_size=0.2, random_state=rand_state)\n",
    "\n",
    "t2 = time.time()\n",
    "\n",
    "print(round(t2 - t, 2), 'seconds to extract features')\n",
    "print(\"Done Extracting features\") "
   ]
  },
  {
   "cell_type": "markdown",
   "metadata": {},
   "source": [
    "## Train with the Support Vector Classification"
   ]
  },
  {
   "cell_type": "code",
   "execution_count": 65,
   "metadata": {},
   "outputs": [
    {
     "name": "stdout",
     "output_type": "stream",
     "text": [
      "Please wait...\n",
      "310.26 seconds to train the Support Vector Classification...\n",
      "Test Accuracy of SVC =  0.9955\n",
      "Done with Training\n"
     ]
    }
   ],
   "source": [
    "svc = SVC(kernel='rbf')\n",
    "print(\"Please wait...\")\n",
    "# Check the training time for the SVC\n",
    "t=time.time()\n",
    "svc.fit(X_train, y_train)\n",
    "t2 = time.time()\n",
    "\n",
    "print(round(t2-t, 2), 'seconds to train the Support Vector Classification...')\n",
    "print('Test Accuracy of SVC = ', round(svc.score(X_test, y_test), 4))\n",
    "print(\"Done with Training\")\n"
   ]
  },
  {
   "cell_type": "code",
   "execution_count": 5,
   "metadata": {},
   "outputs": [],
   "source": [
    "pickle_file = \"VehicleDetectionModel.pickle\"\n",
    "generate_support_vector_classification = 0\n",
    "if generate_support_vector_classification == 1:\n",
    "    f = open(pickle_file, \"wb\")\n",
    "    pickle.dump(svc, f)\n",
    "    pickle.dump(x_scaler, f)\n",
    "    f.close()\n",
    "else:\n",
    "    f = open(pickle_file, \"rb\")\n",
    "    svc = pickle.load(f)\n",
    "    x_scaler = pickle.load(f)\n",
    "    f.close()"
   ]
  },
  {
   "cell_type": "code",
   "execution_count": 6,
   "metadata": {},
   "outputs": [
    {
     "name": "stdout",
     "output_type": "stream",
     "text": [
      "SV InformationC: SVC(C=1.0, cache_size=200, class_weight=None, coef0=0.0,\n",
      "  decision_function_shape='ovr', degree=3, gamma='auto', kernel='rbf',\n",
      "  max_iter=-1, probability=False, random_state=None, shrinking=True,\n",
      "  tol=0.001, verbose=False)\n"
     ]
    }
   ],
   "source": [
    "print(\"SV InformationC: {}\".format(svc))"
   ]
  },
  {
   "cell_type": "code",
   "execution_count": 7,
   "metadata": {},
   "outputs": [
    {
     "data": {
      "text/plain": [
       "<matplotlib.image.AxesImage at 0x112e7af28>"
      ]
     },
     "execution_count": 7,
     "metadata": {},
     "output_type": "execute_result"
    },
    {
     "data": {
      "image/png": "[encoded data removed]",
      "text/plain": [
       "<matplotlib.figure.Figure at 0x119963ef0>"
      ]
     },
     "metadata": {},
     "output_type": "display_data"
    }
   ],
   "source": [
    "img = mpimg.imread('../test_images/test1.jpg')\n",
    "img = img.astype(np.float32)/255\n",
    "hog_file = 'svc-model-2.pickle'\n",
    "\n",
    "out_img = find_vehicles(img,svc,x_scaler,hog_file)\n",
    "\n",
    "plt.imshow(out_img, cmap='gray')"
   ]
  },
  {
   "cell_type": "markdown",
   "metadata": {},
   "source": [
    "### Test the Undistortation of on Chessboard images"
   ]
  },
  {
   "cell_type": "code",
   "execution_count": 23,
   "metadata": {},
   "outputs": [],
   "source": [
    "\n",
    "def draw_labeled_bboxes(img, labels):\n",
    "    # Iterate through all detected cars\n",
    "    for car_number in range(1, labels[1]+1):\n",
    "        # Find pixels with each car_number label value\n",
    "        nonzero = (labels[0] == car_number).nonzero()\n",
    "        # Identify x and y values of those pixels\n",
    "        nonzeroy = np.array(nonzero[0])\n",
    "        nonzerox = np.array(nonzero[1])\n",
    "        # Define a bounding box based on min/max x and y\n",
    "        bbox = ((np.min(nonzerox), np.min(nonzeroy)), (np.max(nonzerox), np.max(nonzeroy)))\n",
    "        # Draw the box on the image\n",
    "        cv2.rectangle(img, bbox[0], bbox[1], (255,255,0), 6)\n",
    "    # Return the image\n",
    "    return img\n",
    "\n",
    "\n",
    "def detect_vehicles(img):\n",
    "    detection_treshold = 15\n",
    "    framenum =0\n",
    "    draw_img = np.copy(img)\n",
    "    img = img.astype(np.float32) / 255\n",
    "    thisheatmap = find_vehicles(img,svc,x_scaler,hog_file)\n",
    "\n",
    "    hmaps[framenum % 10] = thisheatmap\n",
    "    framenum += 1\n",
    "\n",
    "    addheatmap = np.zeros_like(img[:, :, 0])\n",
    "    for h in hmaps:\n",
    "        addheatmap = cv2.add(addheatmap, h)\n",
    "\n",
    "    # Zero out pixels below the threshold\n",
    "    addheatmap[addheatmap <= detection_treshold] = 0\n",
    "\n",
    "    labels = label(addheatmap)\n",
    "\n",
    "    draw_img = draw_labeled_bboxes(draw_img, labels)\n",
    "\n",
    "    plt.imshow(addheatmap, cmap='gray')\n",
    "    return draw_img\n",
    "\n",
    "\n"
   ]
  },
  {
   "cell_type": "code",
   "execution_count": 24,
   "metadata": {},
   "outputs": [
    {
     "name": "stdout",
     "output_type": "stream",
     "text": [
      "[MoviePy] >>>> Building video project_video_out.mp4\n",
      "[MoviePy] Writing video project_video_out.mp4\n"
     ]
    },
    {
     "name": "stderr",
     "output_type": "stream",
     "text": [
      " 98%|█████████▊| 50/51 [02:07<00:02,  2.63s/it]\n"
     ]
    },
    {
     "name": "stdout",
     "output_type": "stream",
     "text": [
      "[MoviePy] Done.\n",
      "[MoviePy] >>>> Video ready: project_video_out.mp4 \n",
      "\n",
      "CPU times: user 2min 6s, sys: 746 ms, total: 2min 7s\n",
      "Wall time: 2min 8s\n"
     ]
    },
    {
     "data": {
      "image/png": "[encoded data removed]",
      "text/plain": [
       "<matplotlib.figure.Figure at 0x11acb8780>"
      ]
     },
     "metadata": {},
     "output_type": "display_data"
    }
   ],
   "source": [
    "clip1 = VideoFileClip(\"../project_video.mp4\")\n",
    "video_output = 'project_video_out.mp4'\n",
    "out_clip = clip1.fl_image(detect_vehicles).subclip(30,32)\n",
    "#out_clip = clip1.fl_image(process_image)\n",
    "%time out_clip.write_videofile(video_output, audio=False)"
   ]
  },
  {
   "cell_type": "code",
   "execution_count": 47,
   "metadata": {},
   "outputs": [],
   "source": [
    "\n",
    "\n",
    "def extract_vehicle_features(img, svc, x_scaler):\n",
    "    \"\"\"\n",
    "    Extract features using hog sub-sampling and make predictions\n",
    "    :param img: \n",
    "    :param svc: \n",
    "    :param x_scaler: \n",
    "    :return: \n",
    "    \"\"\"\n",
    "    ystart = 400\n",
    "    ystop = 656\n",
    "    scale = 1.5\n",
    "\n",
    "    orient = 9\n",
    "    pix_per_cell = 8\n",
    "    cell_per_block = 2\n",
    "    spatial_size = (32, 32)\n",
    "    hist_bins = 32\n",
    "    heatmap = np.zeros_like(img[:, :, 0])\n",
    "\n",
    "    img_to_search = img[ystart:ystop, :, :]\n",
    "    ctrans_to_search = img_to_search\n",
    "    if scale != 1:\n",
    "        imshape = ctrans_to_search.shape\n",
    "        ctrans_to_search = cv2.resize(ctrans_to_search, (np.int(imshape[1] / scale), np.int(imshape[0] / scale)))\n",
    "\n",
    "    ch1 = ctrans_to_search[:, :, 0]\n",
    "    ch2 = ctrans_to_search[:, :, 1]\n",
    "    ch3 = ctrans_to_search[:, :, 2]\n",
    "\n",
    "    # Define blocks and steps as above\n",
    "    nxblocks = (ch1.shape[1] // pix_per_cell) - cell_per_block + 1\n",
    "    nyblocks = (ch1.shape[0] // pix_per_cell) - cell_per_block + 1\n",
    "\n",
    "    # 64 was the orginal sampling rate, with 8 cells and 8 pix per cell\n",
    "    window = 64\n",
    "    nblocks_per_window = (window // pix_per_cell) - cell_per_block + 1\n",
    "    cells_per_step = 2  # Instead of overlap, define how many cells to step\n",
    "    nxsteps = (nxblocks - nblocks_per_window) // cells_per_step\n",
    "    nysteps = (nyblocks - nblocks_per_window) // cells_per_step\n",
    "\n",
    "    hog_file = \"svc-model-2.pickle\"\n",
    "    if Path(hog_file).is_file():\n",
    "        f = open(hog_file, \"rb\")\n",
    "        hog1 = pickle.load(f)\n",
    "        hog2 = pickle.load(f)\n",
    "        hog3 = pickle.load(f)\n",
    "        f.close()\n",
    "    else:\n",
    "        # Compute individual channel HOG features for the entire image\n",
    "        hog1 = get_hog_features(ch1, orient, pix_per_cell, cell_per_block, feature_vec=False)\n",
    "        hog2 = get_hog_features(ch2, orient, pix_per_cell, cell_per_block, feature_vec=False)\n",
    "        hog3 = get_hog_features(ch3, orient, pix_per_cell, cell_per_block, feature_vec=False)\n",
    "        f = open(hog_file, \"wb\")\n",
    "        pickle.dump(hog1, f)\n",
    "        pickle.dump(hog2, f)\n",
    "        pickle.dump(hog3, f)\n",
    "        f.close()\n",
    "\n",
    "    for xb in range(nxsteps):\n",
    "        if (xb * cells_per_step * pix_per_cell * scale) > 700:\n",
    "            for yb in range(nysteps):\n",
    "                ypos = yb * cells_per_step\n",
    "                xpos = xb * cells_per_step\n",
    "                # Extract HOG for this patch\n",
    "                hog_feat1 = hog1[ypos:ypos + nblocks_per_window, xpos:xpos + nblocks_per_window].ravel()\n",
    "                hog_feat2 = hog2[ypos:ypos + nblocks_per_window, xpos:xpos + nblocks_per_window].ravel()\n",
    "                hog_feat3 = hog3[ypos:ypos + nblocks_per_window, xpos:xpos + nblocks_per_window].ravel()\n",
    "                hog_features = np.hstack((hog_feat1, hog_feat2, hog_feat3))\n",
    "\n",
    "                xleft = xpos * pix_per_cell\n",
    "                ytop = ypos * pix_per_cell\n",
    "\n",
    "                # Extract the image patch\n",
    "                subimg = cv2.resize(ctrans_to_search[ytop:ytop + window, xleft:xleft + window], (64, 64))\n",
    "\n",
    "                # Get color features\n",
    "                spatial_features = bin_spatial(subimg, size=spatial_size)\n",
    "                hist_features = color_hist(subimg, nbins=hist_bins)\n",
    "\n",
    "                # Scale features and make a prediction\n",
    "                test_features = x_scaler.transform(\n",
    "                    np.hstack((spatial_features, hist_features, hog_features)).reshape(1, -1))\n",
    "                test_prediction = svc.predict(test_features)\n",
    "\n",
    "                if test_prediction == 1:\n",
    "                    xbox_left = np.int(xleft * scale)\n",
    "                    ytop_draw = np.int(ytop * scale)\n",
    "                    win_draw = np.int(window * scale)\n",
    "                    if xbox_left > 700:\n",
    "                        heatmap[ytop_draw + ystart:ytop_draw + ystart + win_draw, xbox_left:xbox_left + win_draw] += 1\n",
    "\n",
    "    return heatmap\n"
   ]
  },
  {
   "cell_type": "code",
   "execution_count": 48,
   "metadata": {},
   "outputs": [],
   "source": [
    "heatmap = np.zeros_like(img[:, :, 0])\n",
    "\n",
    "heatmaps = []\n",
    "for i in range(10):\n",
    "    heatmaps.append(heatmap)\n",
    "\n",
    "frame_number = 0\n",
    "threshold_detection = 15\n",
    "\n",
    "\n",
    "def detect_vehicles(img):\n",
    "    global x_scaler\n",
    "    global frame_number\n",
    "    global threshold_detection\n",
    "\n",
    "    draw_img = np.copy(img)\n",
    "\n",
    "    img = img.astype(np.float32) / 255\n",
    "    thisheatmap = extract_vehicle_features(img, svc, x_scaler)\n",
    "\n",
    "    heatmaps[frame_number % 10] = thisheatmap\n",
    "    frame_number += 1\n",
    "\n",
    "    addheatmap = np.zeros_like(img[:, :, 0])\n",
    "    for h in heatmaps:\n",
    "        addheatmap = cv2.add(addheatmap, h)\n",
    "\n",
    "    # Zero out pixels below the threshold\n",
    "    addheatmap[addheatmap <= threshold_detection] = 0\n",
    "\n",
    "    labels = label(addheatmap)\n",
    "    draw_img = draw_labeled_box(draw_img, labels)\n",
    "\n",
    "    plt.imshow(addheatmap, cmap='gray')\n",
    "    return draw_img"
   ]
  },
  {
   "cell_type": "code",
   "execution_count": 49,
   "metadata": {},
   "outputs": [
    {
     "name": "stdout",
     "output_type": "stream",
     "text": [
      "[MoviePy] >>>> Building video project_video_out.mp4\n",
      "[MoviePy] Writing video project_video_out.mp4\n"
     ]
    },
    {
     "name": "stderr",
     "output_type": "stream",
     "text": [
      " 98%|█████████▊| 50/51 [02:05<00:02,  2.47s/it]\n"
     ]
    },
    {
     "name": "stdout",
     "output_type": "stream",
     "text": [
      "[MoviePy] Done.\n",
      "[MoviePy] >>>> Video ready: project_video_out.mp4 \n",
      "\n",
      "CPU times: user 2min 5s, sys: 618 ms, total: 2min 5s\n",
      "Wall time: 2min 6s\n"
     ]
    }
   ],
   "source": [
    "clip1 = VideoFileClip(\"../project_video.mp4\")\n",
    "video_output = 'project_video_out.mp4'\n",
    "out_clip = clip1.fl_image(process_image).subclip(30,32)\n",
    "#out_clip = clip1.fl_image(process_image)\n",
    "%time out_clip.write_videofile(video_output, audio=False)"
   ]
  },
  {
   "cell_type": "code",
   "execution_count": null,
   "metadata": {},
   "outputs": [],
   "source": []
  }
 ],
 "metadata": {
  "anaconda-cloud": {},
  "kernelspec": {
   "display_name": "Python 3",
   "language": "python",
   "name": "python3"
  },
  "language_info": {
   "codemirror_mode": {
    "name": "ipython",
    "version": 3
   },
   "file_extension": ".py",
   "mimetype": "text/x-python",
   "name": "python",
   "nbconvert_exporter": "python",
   "pygments_lexer": "ipython3",
   "version": "3.5.2"
  },
  "widgets": {
   "state": {},
   "version": "1.1.2"
  }
 },
 "nbformat": 4,
 "nbformat_minor": 1
}
